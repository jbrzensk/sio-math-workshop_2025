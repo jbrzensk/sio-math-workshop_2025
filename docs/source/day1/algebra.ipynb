{
 "cells": [
  {
   "cell_type": "markdown",
   "id": "b36fe48a",
   "metadata": {},
   "source": [
    "# Algebra"
   ]
  },
  {
   "cell_type": "markdown",
   "id": "684ff985",
   "metadata": {},
   "source": [
    "**Instructor:** Caeli Griffin   cagriffin@ucsd.edu  (Keck 225)\n",
    "**TAs:** Lauren Harvey & Kathryn Chen\n",
    "\n",
    "This lecture is designed to provide incoming students with a quick refresher on basic algebraic problem-solving techniques. Topics to be covered are: order of operations, exponent and logarithm rules, the quadratic equation, and systems of equations."
   ]
  },
  {
   "cell_type": "markdown",
   "id": "96e7b18e",
   "metadata": {},
   "source": [
    "## 1 | FIRST SECTION"
   ]
  },
  {
   "cell_type": "markdown",
   "id": "41fcf7f4",
   "metadata": {},
   "source": [
    "### 1.1 FIRST SUBSECTION"
   ]
  }
 ],
 "metadata": {
  "language_info": {
   "name": "python"
  }
 },
 "nbformat": 4,
 "nbformat_minor": 5
}
