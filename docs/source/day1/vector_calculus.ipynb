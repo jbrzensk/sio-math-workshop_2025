{
 "cells": [
  {
   "cell_type": "markdown",
   "id": "b36fe48a",
   "metadata": {},
   "source": [
    "# Vector Calculus"
   ]
  },
  {
   "cell_type": "markdown",
   "id": "5f446b7d",
   "metadata": {},
   "source": [
    "**Instructor:** YOUR NAME @YOUREMAIL\n",
    "  \n",
    "**TAs:** TA NAMES AND EMAILS\n",
    "\n",
    "[Brief summary of lesson]\n",
    "\n",
    "Lecture notes adapted from/ inspired by (if applicable)"
   ]
  },
  {
   "cell_type": "markdown",
   "id": "3a8f15bb",
   "metadata": {},
   "source": [
    "## 1 | FIRST SECTION"
   ]
  },
  {
   "cell_type": "markdown",
   "id": "f4cb08b1",
   "metadata": {},
   "source": [
    "### 1.1 FIRST SUBSECTION"
   ]
  }
 ],
 "metadata": {
  "language_info": {
   "name": "python"
  }
 },
 "nbformat": 4,
 "nbformat_minor": 5
}
