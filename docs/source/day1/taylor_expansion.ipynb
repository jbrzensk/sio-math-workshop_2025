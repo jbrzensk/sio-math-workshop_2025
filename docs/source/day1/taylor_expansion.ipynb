{
 "cells": [
  {
   "cell_type": "markdown",
   "id": "b36fe48a",
   "metadata": {},
   "source": [
    "# Taylor Expansion"
   ]
  },
  {
   "cell_type": "markdown",
   "id": "7fbd8def",
   "metadata": {},
   "source": [
    "**Instructor:** YOUR NAME @YOUREMAIL  \n",
    "**TAs:** TA NAMES AND EMAILS\n",
    "\n",
    "[Brief summary of lesson]\n",
    "\n",
    "Lecture notes adapted from/ inspired by (if applicable)"
   ]
  },
  {
   "cell_type": "markdown",
   "id": "9debc2e5",
   "metadata": {},
   "source": [
    "## 1 | FIRST SECTION"
   ]
  },
  {
   "cell_type": "markdown",
   "id": "8d67a212",
   "metadata": {},
   "source": [
    "### 1.1 FIRST SUBSECTION"
   ]
  }
 ],
 "metadata": {
  "language_info": {
   "name": "python"
  }
 },
 "nbformat": 4,
 "nbformat_minor": 5
}
