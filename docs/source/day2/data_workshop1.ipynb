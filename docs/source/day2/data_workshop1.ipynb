{
 "cells": [
  {
   "cell_type": "markdown",
   "id": "b36fe48a",
   "metadata": {},
   "source": [
    "# Data Workshop 1"
   ]
  },
  {
   "cell_type": "markdown",
   "id": "8896a603",
   "metadata": {},
   "source": [
    "**Instructor:** Tommy Stone, Applied Ocean Science (AOS) PhD student (thstone@ucsd.edu)\n",
    "**TAs:** Austin Green (a7green@ucsd.edu)\n",
    "\n",
    "This notebook is meant to be a general guide into data analysis with Python. We will focus on loading a NetCDF file  \n",
    "\n",
    "Lectures notes adapted from Andrea Rodriguez-Marin Freudmann's Data Workshop 1 notebook"
   ]
  },
  {
   "cell_type": "markdown",
   "id": "db9817e7",
   "metadata": {},
   "source": [
    "## 1 | Importing Libraries and Loading a NetCDF File\n",
    "\n"
   ]
  },
  {
   "cell_type": "markdown",
   "id": "61cf258f",
   "metadata": {},
   "source": [
    "### 1.1 Importing Libraries"
   ]
  },
  {
   "cell_type": "markdown",
   "id": "e031a7da",
   "metadata": {
    "vscode": {
     "languageId": "plaintext"
    }
   },
   "source": [
    "### 1.2 Loading the data"
   ]
  }
 ],
 "metadata": {
  "language_info": {
   "name": "python"
  }
 },
 "nbformat": 4,
 "nbformat_minor": 5
}
