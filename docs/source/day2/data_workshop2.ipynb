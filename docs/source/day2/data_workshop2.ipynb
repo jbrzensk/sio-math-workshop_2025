{
  "metadata": {
    "kernelspec": {
      "name": "xpython",
      "display_name": "Python 3.13 (XPython)",
      "language": "python"
    },
    "language_info": {
      "file_extension": ".py",
      "mimetype": "text/x-python",
      "name": "python",
      "version": "3.13.1"
    }
  },
  "nbformat_minor": 5,
  "nbformat": 4,
  "cells": [
    {
      "id": "b36fe48a",
      "cell_type": "markdown",
      "source": "# Data Workshop 2",
      "metadata": {}
    },
    {
      "id": "1c953193",
      "cell_type": "markdown",
      "source": "**Instructor:** Jared Brzenski jabrzenski@ucsd.edu\n\n**TAs:** Tommy Stone           tstone@ucsd.edu\n\n\nThis can be run as MATLAB or Python, depending on the environment chosen.\n\nFor MATLAB, run ```pip install jupyter-matlab-proxy``` in your environmnet and activate MATLAB in the upper right corner.\n",
      "metadata": {}
    },
    {
      "id": "8be50903",
      "cell_type": "markdown",
      "source": "# Raw Data\nLets say we are given the task of analyzing the hsitorical data fro mthe water gauge station at the [Prado Dam in Los Angeles](https://waterdata.usgs.gov/monitoring-location/USGS-11074000/#dataTypeId=continuous-00065-0&period=P7D).\n\nWe want to download the [data](data/PradoDam.txt), clean it, and do some spectral analysis on it to see if there is anything interesting.\n\n",
      "metadata": {}
    },
    {
      "id": "38a8b2ee",
      "cell_type": "markdown",
      "source": "## Reading in the data\n\nIf we do a quick check of the file, we note there is a giant header, then some columns of data.\n```\n# ---------------------------------- WARNING ----------------------------------------\n# Some of the data that you have obtained from this U.S. Geological Survey database\n# may not have received Director's approval. Any such data values are qualified\n# as provisional and are subject to revision. Provisional data are released on the\n# condition that neither the USGS nor the United States Government may be held liable\n# for any damages resulting from its use.\n#\n# Additional info: https://help.waterdata.usgs.gov/policies/provisional-data-statement\n#\n# File-format description:  https://help.waterdata.usgs.gov/faq/about-tab-delimited-output\n# Automated-retrieval info: https://help.waterdata.usgs.gov/faq/automated-retrievals\n#\n# Contact:   gs-w_support_nwisweb@usgs.gov\n# retrieved: 2020-04-29 18:30:02 EDT       (caww01)\n#\n# Data for the following 1 site(s) are contained in this file\n#    USGS 11074000 SANTA ANA R BL PRADO DAM CA\n# -----------------------------------------------------------------------------------\n#\n# Data provided for site 11074000\n#            TS   parameter     statistic     Description\n#          8183       00060     00003     Discharge, cubic feet per second (Mean)\n#\n# Data-value qualification codes included in this output:\n#     A  Approved for publication -- Processing and review completed.\n#     P  Provisional data subject to revision.\n#     e  Value has been estimated.\n# \nagency_cd\tsite_no\tdatetime\t8183_00060_00003\t8183_00060_00003_cd\n5s\t15s\t20d\t14n\t10s\nUSGS\t11074000\t1940-09-30\t51.0\tA\nUSGS\t11074000\t1940-10-01\t47.0\tA\nUSGS\t11074000\t1940-10-02\t47.0\tA\nUSGS\t11074000\t1940-10-03\t47.0\tA\n```\n",
      "metadata": {}
    },
    {
      "id": "2e27df20-b2e9-4c36-ae28-8e3828df4cb9",
      "cell_type": "markdown",
      "source": "This tells us the pertinent information about the file, where it came from, and what format the data displayed is in.\n\nIn MATLAB, we can load this data in by giving the filename of the data location, and using readtable.",
      "metadata": {}
    },
    {
      "id": "6b76be2c-0024-4690-a1d2-6db0af119162",
      "cell_type": "code",
      "source": "% MATLAB\n% read in a text file\n\nfilename = 'PradoDam.txt';\n\n% Offer a helpful hint if we cant find the file\n[path, name, ext] = fileparts(filename);\nif ext ~= '.txt'\n    fprint(\"Wrong file extension given.\\n\");\n    return;\nend\n\n% We could read in the data raw with\n% ff = importdata(filename);\n\n% Or, read it in as a table with\nf =  readtable(filename);",
      "metadata": {
        "trusted": true
      },
      "outputs": [
        {
          "ename": "<class 'SyntaxError'>",
          "evalue": "invalid syntax (1569836461.py, line 8)",
          "traceback": [
            "  \u001b[36mCell\u001b[39m\u001b[36m \u001b[39m\u001b[32mIn[1]\u001b[39m\u001b[32m, line 8\u001b[39m\n\u001b[31m    \u001b[39m\u001b[31mif ext ~= '.txt'\u001b[39m\n           ^\n\u001b[31mSyntaxError\u001b[39m\u001b[31m:\u001b[39m invalid syntax\n"
          ],
          "output_type": "error"
        }
      ],
      "execution_count": 1
    },
    {
      "id": "27d0099e-e6d6-48f6-9832-fe0b06c44de8",
      "cell_type": "markdown",
      "source": "WE can examine the data by viewing the ```f``` variable, and note it is in columns already. we are interested in column 3 and 4, the date and measurements.",
      "metadata": {}
    },
    {
      "id": "da287276-a57c-4e49-93d7-2ac3ab1f7eab",
      "cell_type": "code",
      "source": "% MATLAB\ndate = f{:,3};\nflow = f{:,4};\n% Convert the date from a string into datenum object so MATLAB can do date specific work.\ndate = datenum( f{:,3} );",
      "metadata": {
        "trusted": true
      },
      "outputs": [
        {
          "ename": "<class 'SyntaxError'>",
          "evalue": "invalid syntax (712056761.py, line 1)",
          "traceback": [
            "  \u001b[36mCell\u001b[39m\u001b[36m \u001b[39m\u001b[32mIn[2]\u001b[39m\u001b[32m, line 1\u001b[39m\n\u001b[31m    \u001b[39m\u001b[31mdate = f{:,3};\u001b[39m\n            ^\n\u001b[31mSyntaxError\u001b[39m\u001b[31m:\u001b[39m invalid syntax\n"
          ],
          "output_type": "error"
        }
      ],
      "execution_count": 2
    },
    {
      "id": "2a88ba17-e041-48be-83f9-5efef5e60fab",
      "cell_type": "markdown",
      "source": "%MATLAB\n% Lets say we need a monthly average, we can do that with indexing ?!?\nmonths = month(date)\n\nfor ii=  1:12\n    indexes = find(months == ii)\n    Total(ii) = sum( flow(indexes) );\n    Average(ii) = Total(ii) / length(indexes);\nend\n\ndate = datetime( date , 'ConvertFrom', 'datenum' );\n\nsave ('save_data.mat', 'date', 'flow' );",
      "metadata": {}
    },
    {
      "id": "878e32ec-0a16-4dc9-8152-b62f21fbf713",
      "cell_type": "markdown",
      "source": "And conversely, if we are missing a newer MATLAB, or want to do this the way MATLAB is doing it under the hood, this is the equivalent to the above code. Be carefuly running it, it will clobber the variables in the above cells!",
      "metadata": {}
    },
    {
      "id": "0b6156a6-384e-4efb-abae-92ff3af0171a",
      "cell_type": "code",
      "source": "% MATLAB - Not necessary to run\nraw_data = importdata(filename);\n[nr nc] = size(raw_data);\ndate = zeros(nr,1);\nFlow = zeros(nr,1);\n% Scan the rows for a string, string, string, float, and a string\nfor ii = 1:nr\n    row = textscan( raw_data{ii}, '%s%s%s%f%s');\n    agency = row{1};\n    % Check if the first string says USGS, we know we in the data!\n    if strcmp(agency, 'USGS')\n        date(ii) = datenum(row{3});\n        flow(ii) = row{4};\n    end\nend\n\n[nr nc] = size(f);\ndate = zeros( nr, 1);\nQ = zeros( nr, 1);\n\n% Import the date and time and plot\ndate =  f{:,3} ;\nflow =  f{:,4};\nplot(date, flow)\nxtickformat('dd-MMM-yyyy');\n",
      "metadata": {
        "trusted": true
      },
      "outputs": [],
      "execution_count": null
    },
    {
      "id": "614b18bf-83a8-4f93-8b7f-60c1a1fddb63",
      "cell_type": "markdown",
      "source": "If you scrolled through the data, you noticed there were some missing values, dates, etc. WE need to remove those from our data set. How can we find them efficiently?",
      "metadata": {}
    },
    {
      "id": "0cff4d02-bbce-4abc-8e44-8dcc9e970c55",
      "cell_type": "code",
      "source": "% MATLAB \n% clean NaNs\ninan = find(isnan(flow));\nflow(inan) = [];           % This effectively removes the entry\ndate(inan) = [];           % Do not forget the dates as well\n\n% Other equivalent ways of finding nans in dates\n% isnat == is not a time\n% if date is a date string\n\n% If we did everything correct, then this should be equal to zero\ninad = find(isnat(date))",
      "metadata": {
        "trusted": true
      },
      "outputs": [],
      "execution_count": null
    }
  ]
}