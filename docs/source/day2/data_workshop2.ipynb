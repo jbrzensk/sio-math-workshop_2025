{
  "metadata": {
    "kernelspec": {
      "name": "xpython",
      "display_name": "Python 3.13 (XPython)",
      "language": "python"
    },
    "language_info": {
      "file_extension": ".py",
      "mimetype": "text/x-python",
      "name": "python",
      "version": "3.13.1"
    }
  },
  "nbformat_minor": 5,
  "nbformat": 4,
  "cells": [
    {
      "id": "b36fe48a",
      "cell_type": "markdown",
      "source": "# Data Workshop 2",
      "metadata": {}
    },
    {
      "id": "1c953193",
      "cell_type": "markdown",
      "source": "**Instructor:** Jared Brzenski jabrzenski@ucsd.edu\n\n**TAs:** Tommy Stone           tstone@ucsd.edu\n\n[Brief summary of lesson]\n\nLecture notes adapted from/ inspired by (if applicable)",
      "metadata": {}
    },
    {
      "id": "8be50903",
      "cell_type": "markdown",
      "source": "# Raw Data\nLets say we are given the task of analyzing the hsitorical data fro mthe water gauge station at the [Prado Dam in Los Angeles](https://waterdata.usgs.gov/monitoring-location/USGS-11074000/#dataTypeId=continuous-00065-0&period=P7D).\n\nWe want to download the [data](data/PradoDam.txt), clean it, and do some spectral analysis on it to see if there is anything interesting.\n\n",
      "metadata": {}
    },
    {
      "id": "38a8b2ee",
      "cell_type": "markdown",
      "source": "## Reading in the data\n\nIf we do a quick check of the file, we note there is a giant header, then some columns of data.\n```\n# ---------------------------------- WARNING ----------------------------------------\n# Some of the data that you have obtained from this U.S. Geological Survey database\n# may not have received Director's approval. Any such data values are qualified\n# as provisional and are subject to revision. Provisional data are released on the\n# condition that neither the USGS nor the United States Government may be held liable\n# for any damages resulting from its use.\n#\n# Additional info: https://help.waterdata.usgs.gov/policies/provisional-data-statement\n#\n# File-format description:  https://help.waterdata.usgs.gov/faq/about-tab-delimited-output\n# Automated-retrieval info: https://help.waterdata.usgs.gov/faq/automated-retrievals\n#\n# Contact:   gs-w_support_nwisweb@usgs.gov\n# retrieved: 2020-04-29 18:30:02 EDT       (caww01)\n#\n# Data for the following 1 site(s) are contained in this file\n#    USGS 11074000 SANTA ANA R BL PRADO DAM CA\n# -----------------------------------------------------------------------------------\n#\n# Data provided for site 11074000\n#            TS   parameter     statistic     Description\n#          8183       00060     00003     Discharge, cubic feet per second (Mean)\n#\n# Data-value qualification codes included in this output:\n#     A  Approved for publication -- Processing and review completed.\n#     P  Provisional data subject to revision.\n#     e  Value has been estimated.\n# \nagency_cd\tsite_no\tdatetime\t8183_00060_00003\t8183_00060_00003_cd\n5s\t15s\t20d\t14n\t10s\nUSGS\t11074000\t1940-09-30\t51.0\tA\nUSGS\t11074000\t1940-10-01\t47.0\tA\nUSGS\t11074000\t1940-10-02\t47.0\tA\nUSGS\t11074000\t1940-10-03\t47.0\tA\n```\n",
      "metadata": {}
    },
    {
      "id": "2e27df20-b2e9-4c36-ae28-8e3828df4cb9",
      "cell_type": "markdown",
      "source": "This tells us the pertinent information about the file, where it came from, and what format the data displayed is in.",
      "metadata": {}
    }
  ]
}