{
 "cells": [
  {
   "cell_type": "markdown",
   "id": "b36fe48a",
   "metadata": {},
   "source": [
    "# Linear Algebra 1"
   ]
  },
  {
   "cell_type": "markdown",
   "id": "1bd3f270",
   "metadata": {},
   "source": [
    "**Instructor:** Tommy Stone, Applied Ocean Science (AOS) PhD student (thstone@ucsd.edu)\n",
    "\n",
    "**TAs:** Sam Schulz (s1schulz@ucsd.edu), Camilla Marcellini (cmarcellini@ucsd.edu )\n",
    "\n",
    "\n",
    "Linear algebra is a branch of mathematics that studies vectors, vector spaces, linear transformations, and systems of linear equations. At its core, it provides a framework for understanding and working with quantities that have both magnitude and direction, as well as the relationships between them. The subject focuses on operations with matrices and vectors, making it a powerful language for expressing and solving mathematical problems.\n",
    "\n",
    "\n",
    "Lecture notes adapted from \n",
    "\n",
    "1) [David Vishny 2022 lecture notes](https://drive.google.com/drive/u/0/folders/1_u2dI7ji43XYKnbOKjp2eArOeWUBOlMT) for the SIO Math Workshop\n",
    "2) [Essence of Linear Algebra](https://www.youtube.com/watch?v=fNk_zzaMoSs&list=PLZHQObOWTQDPD3MizzM2xVFitgF8hE_ab) By 3Blue1Brown\n",
    "3) [Linear Algebra and Its Applications](https://math.mit.edu/~gs/) by Gilbert Strang, 4th Edition\n",
    "4) [Mathematical Methods for Physics and Engineering](https://search-library.ucsd.edu/permalink/01UCS_SDI/ld412s/alma991000027069706535\n",
    ") By K.R Riely, M.P Hobson, S. J. Bence "
   ]
  },
  {
   "cell_type": "markdown",
   "id": "07d14d8b",
   "metadata": {},
   "source": [
    "## 1 | Why Linear Algebra?\n",
    "\n",
    "The first question we must ask is why is Linear Algebra important in Earth Sciences? \n",
    "\n",
    "### 1.1 Application of Linear Algebra\n",
    "\n",
    "Linear Algebra is essential because it provides the mathematical foundation for analysis of large datasets, building models as well as identifying patterns in complex systems. Earth Science disciplines use Linear Algebra with General Circulation Models (CGM), Wave Dynamics, Eigenvalues, Singular Value Decomposition (SVD), Least Squares Fitting, Neural Networks and many more. In order to go into these advanced topics we need to first learrn the basis of Linear Algebra which are vectors and matrices."
   ]
  },
  {
   "cell_type": "markdown",
   "id": "9e82cb22",
   "metadata": {},
   "source": [
    "## 2 | Review - Scalars, Vectors, Matrices, Tensors and Dimensions (Oh my!)\n",
    "\n",
    "In this first section we will review our definitions of\n",
    "\n",
    "1) Scalars\n",
    "2) Vectors\n",
    "3) Matrices\n",
    "4) Tensors"
   ]
  },
  {
   "cell_type": "markdown",
   "id": "1bda0ed2",
   "metadata": {},
   "source": [
    "### 2.1 Scalars and Vectors\n",
    "\n",
    "A scalar is a quantity that can be fully described by a number. A vector is an object that has both a magnitude (length) and a direction. The components (or elements) or a vector are scalars\n",
    "\n",
    "\n",
    "**Is time a scalar or a vector?**\n",
    "\n",
    "solution: time (t) is a **scalar**\n",
    "\n",
    "**Is density a scalar or a vector?**\n",
    "  \n",
    "Solution: Density ($\\rho$) is a **scalar**\n",
    "\n",
    "**Is velocity a scalar or a vector?**\n",
    "\n",
    "Solution: Velocity ($\\vec{u}$) is a **vector** because it has a direction and a magnitude \n",
    "\n"
   ]
  },
  {
   "cell_type": "markdown",
   "id": "a7526ae3",
   "metadata": {},
   "source": [
    "**Scalar**: $t = 2.33 \\text( s)$\n",
    "\n",
    "**Vector**: $\\vec{u} = \\begin{bmatrix} 0.5 \\text{ cm/s} \\\\ 1 \\text{ cm/s} \\end{bmatrix}$\n",
    "\n"
   ]
  },
  {
   "cell_type": "markdown",
   "id": "3b6c0b0b",
   "metadata": {},
   "source": [
    "### 2.2 Matrices\n",
    "\n",
    "A matrix is a rectangular array of scalar values arranged in **rows** and **columns**\n",
    "\n",
    "$$\n",
    "A = \\begin{bmatrix}a_{1,1} & a_{1,2} & a_{1,3} \\\\ a_{2,1} & a_{2,2} & a_{2,3} \\\\ a_{3,1} & a_{3,2} & a_{3,3} \\end{bmatrix}\n",
    "$$\n",
    "\n",
    "Where $i$ is the **row** index and $j$ is the **column** index for each element in the matrix. A matrix will have two dimensions listed as MxN. M is the number of rows and N is the number of columns. This will be important when we go into the algebra side. An example of a matrix will be a list or temperature values described by their latitude and longitude position\n",
    "\n",
    "\n",
    "![Example Matrix](../_static/matrix.jpg)\n",
    "\n",
    "**From the above example, what are the dimensions of the 2D matrix (i.e. What is the value for M and N)?**\n",
    "\n",
    "Solution: 4 x 4\n",
    "\n"
   ]
  },
  {
   "cell_type": "markdown",
   "id": "23da7e68",
   "metadata": {},
   "source": [
    "### 2.3 Tensors\n",
    "\n",
    "Scalars, Vectors and Matrices are all different order **Tensors**. Tensors are described by their order where the order is the description on the number of the dimensions of the object\n",
    "\n",
    "* **Scalars** are **0th order tensor** (a single number)\n",
    "* **Vectors** are **1st order tensors** (a list of numbers [x y z])\n",
    "* **Matrices** are **2nd order tensors** ([M] rows and [N] columns)\n",
    "\n",
    "There are also 3rd order tensors \n",
    "\n",
    "### 2.4 Notation\n",
    "\n",
    "Typical notation you will find for scalars, vectors and matrices\n",
    "\n",
    "1) Scalars are indicated by lower case letters\n",
    "\n",
    "$$\n",
    "c\n",
    "$$\n",
    "\n",
    "2) Vectors will have an arrow above a lower case letter\n",
    "\n",
    "$$\n",
    "\\vec{u} = \\begin{bmatrix}u \\\\ v\\end{bmatrix}\n",
    "$$\n",
    "\n",
    "3) Matrices are indicated by capital letters\n",
    "\n",
    "$$\n",
    "A = \\begin{bmatrix} a & b \\\\ c & d \\end{bmatrix}\n",
    "$$\n",
    "\n"
   ]
  }
 ],
 "metadata": {
  "kernelspec": {
   "display_name": "workshop-docs",
   "language": "python",
   "name": "python3"
  },
  "language_info": {
   "name": "python",
   "version": "3.11.13"
  }
 },
 "nbformat": 4,
 "nbformat_minor": 5
}
