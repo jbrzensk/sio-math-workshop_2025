{
 "cells": [
  {
   "cell_type": "markdown",
   "id": "b36fe48a",
   "metadata": {},
   "source": [
    "# Distribution Functions"
   ]
  },
  {
   "cell_type": "markdown",
   "id": "e34139a8",
   "metadata": {},
   "source": [
    "**Instructor:** YOUR NAME @YOUREMAIL  \n",
    "**TAs:** TA NAMES AND EMAILS\n",
    "\n",
    "[Brief summary of lesson]\n",
    "\n",
    "Lecture notes inspired by Paul Siegel's ECE 250 course notes."
   ]
  },
  {
   "cell_type": "markdown",
   "id": "d0a427ad",
   "metadata": {},
   "source": [
    "## 1 | Introduction\n",
    "\n",
    "### 1.1 FIRST SUBSECTION\n",
    "\n",
    "We just revewed basic probability and random variables. If we step back and think about the random variable $x$,we can define the probability measure $P_x$ for an event $E$ in the possible event space for $x$. I won't dive too deep into the theory here, but with probability measure $P_x(E)$, we can use existing axioms of probability to find $P_x(E)$ for any interval $-\\infty<a<b<\\infty$ :\n",
    "$$P_x(E) \\rightarrow P_x((a,b)), \\quad -\\infty<a<b<\\infty$$\n",
    "This is since a certain set of outcomes can give us the event $E$.\n",
    "\n",
    "It's enough to consider intervals of the form $(-\\infty,x], x \\in \\mathbb{R}$.\n",
    "\n",
    "This leads us to the...\n",
    "\n",
    "## 2 | Cumulative Distribution Function (CDF)\n",
    "\n",
    "for $x \\in \\mathbb{R}, F_x(x) = P_x((-\\infty,x])=P(X≤x)$\n",
    "\n",
    "### 2.1 Properties of CDF\n",
    "\n",
    "1. \n",
    "2. \n",
    "3. \n",
    "4. \n",
    "5. \n",
    "\n",
    "Example: Flip a biased coin, with $P_r(0)=1-p$, $P_r(1)=p$. Let $x$ be the value of the flip. The CDF $F_x(x)$ is \n",
    "$$F_x(x) = \\begin{cases}\n",
    "0,& x<0\\\\\n",
    "1-p,& 0≤x<1\\\\\n",
    "1,& x≥1\n",
    "\\end{cases}$$\n",
    "\n",
    "\n",
    "\n"
   ]
  }
 ],
 "metadata": {
  "language_info": {
   "name": "python"
  }
 },
 "nbformat": 4,
 "nbformat_minor": 5
}
