{
 "cells": [
  {
   "cell_type": "markdown",
   "id": "b36fe48a",
   "metadata": {},
   "source": [
    "# Distribution Functions"
   ]
  },
  {
   "cell_type": "markdown",
   "id": "e34139a8",
   "metadata": {},
   "source": [
    "**Instructor:** YOUR NAME @YOUREMAIL  \n",
    "**TAs:** TA NAMES AND EMAILS\n",
    "\n",
    "[Brief summary of lesson]\n",
    "\n",
    "Lecture notes adapted from/ inspired by (if applicable)"
   ]
  },
  {
   "cell_type": "markdown",
   "id": "d0a427ad",
   "metadata": {},
   "source": [
    "## 1 | FIRST SECTION"
   ]
  },
  {
   "cell_type": "markdown",
   "id": "6e37d57d",
   "metadata": {},
   "source": [
    "### 1.1 FIRST SUBSECTION"
   ]
  }
 ],
 "metadata": {
  "language_info": {
   "name": "python"
  }
 },
 "nbformat": 4,
 "nbformat_minor": 5
}
