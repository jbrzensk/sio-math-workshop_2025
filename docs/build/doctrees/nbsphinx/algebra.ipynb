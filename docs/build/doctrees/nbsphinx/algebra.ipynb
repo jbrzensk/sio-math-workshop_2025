{
 "cells": [
  {
   "cell_type": "markdown",
   "id": "be2cbf29",
   "metadata": {},
   "source": [
    "# Algebra"
   ]
  }
 ],
 "metadata": {
  "language_info": {
   "name": "python"
  }
 },
 "nbformat": 4,
 "nbformat_minor": 5
}
