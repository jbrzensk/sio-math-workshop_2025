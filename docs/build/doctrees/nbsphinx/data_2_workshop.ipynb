{
 "cells": [
  {
   "cell_type": "markdown",
   "id": "48fffe36",
   "metadata": {},
   "source": [
    "# Data Workshop 2"
   ]
  }
 ],
 "metadata": {
  "language_info": {
   "name": "python"
  }
 },
 "nbformat": 4,
 "nbformat_minor": 5
}
