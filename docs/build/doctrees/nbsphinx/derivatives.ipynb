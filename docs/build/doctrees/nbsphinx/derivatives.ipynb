{
 "cells": [
  {
   "cell_type": "markdown",
   "id": "764272b1",
   "metadata": {},
   "source": [
    "# Derivatives"
   ]
  }
 ],
 "metadata": {
  "language_info": {
   "name": "python"
  }
 },
 "nbformat": 4,
 "nbformat_minor": 5
}
