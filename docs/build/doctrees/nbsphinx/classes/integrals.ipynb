{
 "cells": [
  {
   "cell_type": "markdown",
   "id": "540516aa",
   "metadata": {},
   "source": [
    "# Integrals"
   ]
  }
 ],
 "metadata": {
  "language_info": {
   "name": "python"
  }
 },
 "nbformat": 4,
 "nbformat_minor": 5
}
