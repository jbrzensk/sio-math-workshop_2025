{
 "cells": [
  {
   "cell_type": "markdown",
   "id": "1e2a9018",
   "metadata": {},
   "source": [
    "# Data Workshop 1"
   ]
  }
 ],
 "metadata": {
  "language_info": {
   "name": "python"
  }
 },
 "nbformat": 4,
 "nbformat_minor": 5
}
